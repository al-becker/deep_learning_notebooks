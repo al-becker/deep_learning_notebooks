{
 "cells": [
  {
   "cell_type": "code",
   "execution_count": 2,
   "metadata": {
    "pycharm": {
     "is_executing": false
    }
   },
   "outputs": [
    {
     "name": "stdout",
     "output_type": "stream",
     "text": [
      "x_train shape: (60000, 28, 28, 1)\n",
      "60000 train samples\n",
      "10000 test samples\n"
     ]
    }
   ],
   "source": [
    "import numpy as np\n",
    "from tensorflow import keras\n",
    "from tensorflow.keras import layers\n",
    "\n",
    "# Model / data parameters\n",
    "num_classes = 10\n",
    "input_shape = (28,28,1)\n",
    "\n",
    "# the data, split between train and test sets\n",
    "(x_train, y_train), (x_test, y_test) = keras.datasets.mnist.load_data()\n",
    "\n",
    "# scale images to the 0-1 range\n",
    "x_train = x_train.astype(\"float32\") / 255\n",
    "x_test = x_test.astype(\"float32\") / 255\n",
    "# Add channel dimension\n",
    "x_train = np.expand_dims(x_train, -1)\n",
    "x_test = np.expand_dims(x_test, -1)\n",
    "print(\"x_train shape:\", x_train.shape)\n",
    "print(x_train.shape[0], \"train samples\")\n",
    "print(x_test.shape[0], \"test samples\")"
   ]
  },
  {
   "cell_type": "code",
   "execution_count": 3,
   "metadata": {},
   "outputs": [
    {
     "name": "stdout",
     "output_type": "stream",
     "text": [
      "y_train shape: (60000, 10)\n"
     ]
    }
   ],
   "source": [
    "# one-hot encode classes\n",
    "y_train = keras.utils.to_categorical(y_train, num_classes)\n",
    "y_test = keras.utils.to_categorical(y_test, num_classes)\n",
    "print(\"y_train shape:\", y_train.shape)"
   ]
  },
  {
   "cell_type": "code",
   "execution_count": 4,
   "metadata": {},
   "outputs": [
    {
     "name": "stdout",
     "output_type": "stream",
     "text": [
      "Model: \"sequential\"\n",
      "_________________________________________________________________\n",
      "Layer (type)                 Output Shape              Param #   \n",
      "=================================================================\n",
      "conv2d (Conv2D)              (None, 26, 26, 32)        320       \n",
      "_________________________________________________________________\n",
      "max_pooling2d (MaxPooling2D) (None, 13, 13, 32)        0         \n",
      "_________________________________________________________________\n",
      "conv2d_1 (Conv2D)            (None, 11, 11, 64)        18496     \n",
      "_________________________________________________________________\n",
      "max_pooling2d_1 (MaxPooling2 (None, 5, 5, 64)          0         \n",
      "_________________________________________________________________\n",
      "flatten (Flatten)            (None, 1600)              0         \n",
      "_________________________________________________________________\n",
      "dropout (Dropout)            (None, 1600)              0         \n",
      "_________________________________________________________________\n",
      "dense (Dense)                (None, 10)                16010     \n",
      "=================================================================\n",
      "Total params: 34,826\n",
      "Trainable params: 34,826\n",
      "Non-trainable params: 0\n",
      "_________________________________________________________________\n"
     ]
    }
   ],
   "source": [
    "model = keras.Sequential(\n",
    "    [\n",
    "        keras.Input(shape=input_shape),\n",
    "        layers.Conv2D(32, kernel_size=(3, 3), activation=\"relu\"),\n",
    "        layers.MaxPooling2D(pool_size=(2, 2)),\n",
    "        layers.Conv2D(64, kernel_size=(3, 3), activation=\"relu\"),\n",
    "        layers.MaxPooling2D(pool_size=(2, 2)),\n",
    "        layers.Flatten(),\n",
    "        layers.Dropout(0.5),\n",
    "        layers.Dense(num_classes, activation=\"softmax\")\n",
    "    ]\n",
    ")\n",
    "\n",
    "model.summary()"
   ]
  },
  {
   "cell_type": "code",
   "execution_count": 6,
   "metadata": {},
   "outputs": [
    {
     "name": "stdout",
     "output_type": "stream",
     "text": [
      "Train on 54000 samples, validate on 6000 samples\n",
      "Epoch 1/20\n",
      "54000/54000 [==============================] - 20s 368us/sample - loss: 0.3275 - accuracy: 0.9019 - val_loss: 0.0817 - val_accuracy: 0.9763\n",
      "Epoch 2/20\n",
      "54000/54000 [==============================] - 24s 447us/sample - loss: 0.1116 - accuracy: 0.9662 - val_loss: 0.0552 - val_accuracy: 0.9858\n",
      "Epoch 3/20\n",
      "54000/54000 [==============================] - 25s 459us/sample - loss: 0.0850 - accuracy: 0.9736 - val_loss: 0.0500 - val_accuracy: 0.9862\n",
      "Epoch 4/20\n",
      "54000/54000 [==============================] - 24s 450us/sample - loss: 0.0694 - accuracy: 0.9782 - val_loss: 0.0450 - val_accuracy: 0.9883\n",
      "Epoch 5/20\n",
      "54000/54000 [==============================] - 24s 446us/sample - loss: 0.0613 - accuracy: 0.9806 - val_loss: 0.0411 - val_accuracy: 0.9893\n",
      "Epoch 6/20\n",
      "54000/54000 [==============================] - 24s 453us/sample - loss: 0.0547 - accuracy: 0.9835 - val_loss: 0.0381 - val_accuracy: 0.9910\n",
      "Epoch 7/20\n",
      "54000/54000 [==============================] - 24s 452us/sample - loss: 0.0503 - accuracy: 0.9846 - val_loss: 0.0342 - val_accuracy: 0.9908\n",
      "Epoch 8/20\n",
      "54000/54000 [==============================] - 25s 457us/sample - loss: 0.0469 - accuracy: 0.9856 - val_loss: 0.0330 - val_accuracy: 0.9915\n",
      "Epoch 9/20\n",
      "54000/54000 [==============================] - 24s 453us/sample - loss: 0.0443 - accuracy: 0.9861 - val_loss: 0.0351 - val_accuracy: 0.9908\n",
      "Epoch 10/20\n",
      "54000/54000 [==============================] - 25s 456us/sample - loss: 0.0416 - accuracy: 0.9870 - val_loss: 0.0326 - val_accuracy: 0.9910\n",
      "Epoch 11/20\n",
      "54000/54000 [==============================] - 25s 463us/sample - loss: 0.0395 - accuracy: 0.9878 - val_loss: 0.0315 - val_accuracy: 0.9918\n",
      "Epoch 12/20\n",
      "54000/54000 [==============================] - 28s 511us/sample - loss: 0.0363 - accuracy: 0.9887 - val_loss: 0.0345 - val_accuracy: 0.9910\n",
      "Epoch 13/20\n",
      "54000/54000 [==============================] - 26s 476us/sample - loss: 0.0365 - accuracy: 0.9890 - val_loss: 0.0323 - val_accuracy: 0.9900\n",
      "Epoch 14/20\n",
      "54000/54000 [==============================] - 24s 438us/sample - loss: 0.0341 - accuracy: 0.9887 - val_loss: 0.0305 - val_accuracy: 0.9915\n",
      "Epoch 15/20\n",
      "54000/54000 [==============================] - 23s 430us/sample - loss: 0.0346 - accuracy: 0.9892 - val_loss: 0.0312 - val_accuracy: 0.9917\n",
      "Epoch 16/20\n",
      "54000/54000 [==============================] - 24s 441us/sample - loss: 0.0332 - accuracy: 0.9894 - val_loss: 0.0300 - val_accuracy: 0.9915\n",
      "Epoch 17/20\n",
      "54000/54000 [==============================] - 23s 425us/sample - loss: 0.0313 - accuracy: 0.9903 - val_loss: 0.0317 - val_accuracy: 0.9922\n",
      "Epoch 18/20\n",
      "54000/54000 [==============================] - 23s 433us/sample - loss: 0.0305 - accuracy: 0.9905 - val_loss: 0.0319 - val_accuracy: 0.9913\n",
      "Epoch 19/20\n",
      "54000/54000 [==============================] - 23s 425us/sample - loss: 0.0317 - accuracy: 0.9906 - val_loss: 0.0301 - val_accuracy: 0.9918\n",
      "Epoch 20/20\n",
      "54000/54000 [==============================] - 23s 418us/sample - loss: 0.0310 - accuracy: 0.9904 - val_loss: 0.0283 - val_accuracy: 0.9918\n"
     ]
    }
   ],
   "source": [
    "# Train the model\n",
    "batch_size=128\n",
    "epochs=20\n",
    "\n",
    "model.compile(loss=\"categorical_crossentropy\", optimizer=\"rmsprop\", metrics=[\"accuracy\"])\n",
    "\n",
    "history = model.fit(x_train, y_train, batch_size=batch_size, epochs=epochs,validation_split=0.1)"
   ]
  },
  {
   "cell_type": "code",
   "execution_count": 13,
   "metadata": {},
   "outputs": [
    {
     "data": {
      "image/png": "[encoded data removed]",
      "text/plain": [
       "<Figure size 432x288 with 1 Axes>"
      ]
     },
     "metadata": {
      "needs_background": "light"
     },
     "output_type": "display_data"
    },
    {
     "data": {
      "image/png": "[encoded data removed]",
      "text/plain": [
       "<Figure size 432x288 with 1 Axes>"
      ]
     },
     "metadata": {
      "needs_background": "light"
     },
     "output_type": "display_data"
    }
   ],
   "source": [
    "import matplotlib.pyplot as plt\n",
    "epochs_range = range(1, epochs+1)\n",
    "\n",
    "plt.plot(epochs_range, history.history['loss'], 'bo', label='Training loss')\n",
    "plt.plot(epochs_range, history.history['val_loss'], 'b', label='Validation loss')\n",
    "plt.title('Training and validation loss')\n",
    "plt.xlabel('Epochs')\n",
    "plt.ylabel('Loss')\n",
    "plt.legend()\n",
    "plt.show()\n",
    "\n",
    "plt.plot(epochs_range, history.history['accuracy'], 'bo', label='Training acc')\n",
    "plt.plot(epochs_range, history.history['val_accuracy'], 'b', label='Validation acc')\n",
    "plt.title('Training and validation accuracy')\n",
    "plt.xlabel('Epochs')\n",
    "plt.ylabel('Accuracy')\n",
    "plt.legend()\n",
    "plt.show()"
   ]
  },
  {
   "cell_type": "code",
   "execution_count": 43,
   "metadata": {},
   "outputs": [
    {
     "name": "stdout",
     "output_type": "stream",
     "text": [
      "Target 2\n",
      "Predictions 7\n"
     ]
    },
    {
     "data": {
      "image/png": "[encoded data removed]",
      "text/plain": [
       "<Figure size 432x288 with 1 Axes>"
      ]
     },
     "metadata": {
      "needs_background": "light"
     },
     "output_type": "display_data"
    },
    {
     "name": "stdout",
     "output_type": "stream",
     "text": [
      "Target 2\n",
      "Predictions 0\n"
     ]
    },
    {
     "data": {
      "image/png": "[encoded data removed]",
      "text/plain": [
       "<Figure size 432x288 with 1 Axes>"
      ]
     },
     "metadata": {
      "needs_background": "light"
     },
     "output_type": "display_data"
    },
    {
     "name": "stdout",
     "output_type": "stream",
     "text": [
      "Target 7\n",
      "Predictions 5\n"
     ]
    },
    {
     "data": {
      "image/png": "[encoded data removed]",
      "text/plain": [
       "<Figure size 432x288 with 1 Axes>"
      ]
     },
     "metadata": {
      "needs_background": "light"
     },
     "output_type": "display_data"
    }
   ],
   "source": [
    "# show wrong predictions\n",
    "predictions = np.round(model.predict(x_test))\n",
    "boolean_wrong_predictions = np.any(predictions!=y_test, axis=1)\n",
    "wrong_predictions = x_test[boolean_wrong_predictions]\n",
    "wrong_predictions = np.reshape(wrong_predictions,(wrong_predictions.shape[0],28,28))\n",
    "targets = y_test[boolean_wrong_predictions]\n",
    "predictions = predictions[boolean_wrong_predictions]\n",
    "\n",
    "for x in range(1,4):\n",
    "    print(\"Target\", np.argmax(targets[x]))\n",
    "    print(\"Predictions\", np.argmax(predictions[x]))\n",
    "    # colormap gray bzw gray_r is reverse\n",
    "    plt.imshow(wrong_predictions[x], cmap='gray_r')\n",
    "    plt.show()"
   ]
  },
  {
   "cell_type": "code",
   "execution_count": 45,
   "metadata": {},
   "outputs": [
    {
     "name": "stdout",
     "output_type": "stream",
     "text": [
      "Test loss: 0.022243147823958132\n",
      "Test accuracy: 0.9925\n"
     ]
    }
   ],
   "source": [
    "# Evaluate the trained model on the test data\n",
    "score = model.evaluate(x_test, y_test, verbose=0)\n",
    "print(\"Test loss:\", score[0])\n",
    "print(\"Test accuracy:\", score[1])"
   ]
  },
  {
   "cell_type": "code",
   "execution_count": null,
   "metadata": {},
   "outputs": [],
   "source": []
  }
 ],
 "metadata": {
  "kernelspec": {
   "display_name": "Python 3",
   "language": "python",
   "name": "python3"
  },
  "language_info": {
   "codemirror_mode": {
    "name": "ipython",
    "version": 3
   },
   "file_extension": ".py",
   "mimetype": "text/x-python",
   "name": "python",
   "nbconvert_exporter": "python",
   "pygments_lexer": "ipython3",
   "version": "3.7.7"
  }
 },
 "nbformat": 4,
 "nbformat_minor": 1
}
